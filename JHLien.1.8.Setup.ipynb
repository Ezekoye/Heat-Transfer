{
 "cells": [
  {
   "cell_type": "markdown",
   "metadata": {},
   "source": [
    "1.8 A copper sphere 2.5 cm in diameter has a uniform temperature of 40° C. The sphere is suspended in a slow-moving air stream at 0°C. The air stream produces a convection heat transfer coefficient of 15 W/m2K. Radiation can be neglected. Since copper is highly conductive, temperature gradients in the sphere will smooth out rapidly, and its temperature can be taken as uniform throughout the cooling process (i.e., Bi << 1). Write the instantaneous energy balance between the sphere and the surrounding air. Solve this equation and plot the resulting temperatures as a function of time between 40°C and 0°C. \n",
    "\n",
    "You should be able to show that the governing equation for this lumped system is;\n",
    "$${dT \\over {dt}} = {{-hA_s \\over \\rho c V} \\left( T- T_\\infty \\right) }= {\\left( T- T_\\infty \\right) \\over \\tau}$$\n",
    "\n",
    "The solution can be easily shown to have an exponential variation in time.\n",
    "\n",
    "\n",
    "Run the Matlab code LumpedAnalysis.m in the Matlab conduction folder for cases of a D= 1 cm, 2.5 cm, and 5 cm diameter spheres. Compare and discuss with the analytical solution.\n"
   ]
  }
 ],
 "metadata": {
  "anaconda-cloud": {},
  "kernelspec": {
   "display_name": "Python [default]",
   "language": "python",
   "name": "python2"
  },
  "language_info": {
   "codemirror_mode": {
    "name": "ipython",
    "version": 2
   },
   "file_extension": ".py",
   "mimetype": "text/x-python",
   "name": "python",
   "nbconvert_exporter": "python",
   "pygments_lexer": "ipython2",
   "version": "2.7.12"
  }
 },
 "nbformat": 4,
 "nbformat_minor": 0
}
