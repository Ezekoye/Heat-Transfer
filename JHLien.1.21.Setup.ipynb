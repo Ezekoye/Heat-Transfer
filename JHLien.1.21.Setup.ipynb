{
 "cells": [
  {
   "cell_type": "markdown",
   "metadata": {},
   "source": [
    "1.21 The thermal conductivity in a particular plane wall depends as follows on the wall temperature: k = A+ BT, where A and B are constants. The temperatures are TI and T2 on either side if the wall, and its thickness is L. Develop an expression for $q''$. \n",
    "\n",
    "In this problem we write the 1D steady heat equation\n",
    "\n",
    "$$q''=-k(T){dT\\over dx}=-(A+BT){dT\\over dx}$$\n",
    "\n",
    "We integrate this expression from x=0 to x=L.  Make sure to plot the result."
   ]
  }
 ],
 "metadata": {
  "anaconda-cloud": {},
  "kernelspec": {
   "display_name": "Python [default]",
   "language": "python",
   "name": "python2"
  },
  "language_info": {
   "codemirror_mode": {
    "name": "ipython",
    "version": 2
   },
   "file_extension": ".py",
   "mimetype": "text/x-python",
   "name": "python",
   "nbconvert_exporter": "python",
   "pygments_lexer": "ipython2",
   "version": "2.7.12"
  }
 },
 "nbformat": 4,
 "nbformat_minor": 0
}
