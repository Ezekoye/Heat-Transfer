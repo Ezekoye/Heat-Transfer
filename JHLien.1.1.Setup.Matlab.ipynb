{
 "cells": [
  {
   "cell_type": "markdown",
   "metadata": {},
   "source": [
    "JH1.1  A composite wall consists of alternate layers of fir (5 cm thick), aluminum (1 cm thick), lead (1 cm thick), and corkboard (6 cm thick). The temperature is 60° C on the outside of the for and 10°C on the outside of the corkboard. Plot the temperature gradient through the wall. Does the temperature profile suggest any simplifying assumptions that might be made in subsequent analysis of the wall? \n",
    "\n",
    "Find the resistance across all the elements:\n",
    "\n",
    "This is a relatively simple series resistance model.  \n",
    "\n",
    "The heat flux is defined by \n",
    "$$q = {{T_{in}-T_{out}} \\over {\\sum R_i}}$$\n",
    "\n",
    "The temperature drop across any element is $$\\Delta T_i= q \\times R_i$$\n",
    "\n",
    "\n",
    "In Matlab, we could solve this problem several ways:\n",
    "\n",
    "1) We could set up a finite volume model for conduction to expressly compute the temperature distribution in the composite wall. This approach will be discussed in more detail in later classes.   \n",
    "\n",
    "2) We can assume that the temperature profile is linear (known to be true for steady state, no heat generation, temperatures in a plane wall).  Then we can use flux continuity to get the interface temperatures.  This will result in a system of equations. \n",
    "\n",
    "\n",
    "Use case (2) to setup a system of equations that you can then solve for the interface temperatures in Matlab.\n",
    "\n",
    "\n",
    "Consider a composite slab of length $L$ broken into segments of lengths $l_i$.  Each segment of length $l_i$ has a thermal conductivity $k_i$.  There are $N$ such segments in our problem. We can call the $x=0$ face temperature $T_o$ and the $x=L$ temperature $T_N$.  The flux continuity statement at any interface is:\n",
    "\n",
    "$$k_i {T_{i-1} - T_i \\over l_i} = k_{i+1} {T_{i} - T_{i+1} \\over l_{i+1}} $$\n",
    "\n"
   ]
  }
 ],
 "metadata": {
  "anaconda-cloud": {},
  "kernelspec": {
   "display_name": "Python [default]",
   "language": "python",
   "name": "python2"
  },
  "language_info": {
   "codemirror_mode": {
    "name": "ipython",
    "version": 2
   },
   "file_extension": ".py",
   "mimetype": "text/x-python",
   "name": "python",
   "nbconvert_exporter": "python",
   "pygments_lexer": "ipython2",
   "version": "2.7.12"
  }
 },
 "nbformat": 4,
 "nbformat_minor": 0
}
