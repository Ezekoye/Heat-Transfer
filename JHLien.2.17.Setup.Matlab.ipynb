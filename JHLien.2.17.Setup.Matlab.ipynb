{
 "cells": [
  {
   "cell_type": "markdown",
   "metadata": {},
   "source": [
    "2.17)  A wall consists of layers of metals and plastic with heat transfer coefficients on either side.  $U$ is $255 W/m^2K$ and the overall temperature difference is $200 \\;^o C$.  One layer in the wall is stainless steel ($k = 18 \\; W/mK$) $3 \\; mm$ thick.  What is $\\Delta T$ across the stainless steel?\n",
    "\n",
    "Setup:  \n",
    "\n",
    "This is very similar to problem 1.1. Use similar approaches.\n",
    "\n",
    "Use the definition of the heat flux in terms of the overall heat transfer conductance ($U$).\n",
    "The heat flux is defined by \n",
    "$$q'' = {{T_{in}-T_{out}} \\over {\\sum R_i}} = U (T_{in}-T_{out})$$\n",
    "\n",
    "We know $U$ and the total $\\Delta T$ which allows us to calculate $q''$.  We can then calculate the $\\Delta T$ across the stainless steel using:\n",
    "\n",
    "$$q'' = {{\\Delta  T_{SS}} \\over { R_{SS}}}$$\n",
    "\n",
    "\n",
    "\n"
   ]
  }
 ],
 "metadata": {
  "kernelspec": {
   "display_name": "Python [default]",
   "language": "python",
   "name": "python2"
  },
  "language_info": {
   "codemirror_mode": {
    "name": "ipython",
    "version": 2
   },
   "file_extension": ".py",
   "mimetype": "text/x-python",
   "name": "python",
   "nbconvert_exporter": "python",
   "pygments_lexer": "ipython2",
   "version": "2.7.12"
  }
 },
 "nbformat": 4,
 "nbformat_minor": 0
}
