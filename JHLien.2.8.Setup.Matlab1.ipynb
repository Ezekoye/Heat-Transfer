{
 "cells": [
  {
   "cell_type": "markdown",
   "metadata": {},
   "source": [
    "2.8) The slab shown in Fig 2.22 is embedded on five sides in insulating materials.  The sixth side is exposed to an ambient temperature through a heat transfer coefficient.  Heat is generated in the slab at the rate of $1.0 \\;kW/m^3$.  The thermal conductivity of the slab is $0.2\\; W/mK$.  (a) Solve for the temperature distribution in the slab, noting any assumptions you must make.  Be careful to clearly indetify the boundary conditions.  (b) Evaluate T at the front and back faces of the slab.  (c) Show that your solution gives the expected heat fluxes at the back and front faces.\n",
    "\n",
    "Setup:\n",
    "\n",
    "The key to this problem is to recognize that with 5 of 6 sides insuated, all the power internally generated must be lost through the only unexposed face.  The problem requires analysis of $T(x)$ in a slab with generation. To solve this we must integrate:\n",
    "\n",
    "$$ {d^2 T \\over dx^2}= - {q''' \\over k}$$\n",
    "\n",
    "The boundary conditions are at $x=0$ and $x=L$.  The $x=0$ boundary condition is a symmetry condition (i.e., $dT/dx=0$).  The condition at $x=L$ can be specified either as:\n",
    "\n",
    "$$ -k {dT \\over dx} = h(T(L)-T_{\\infty})   \\;\\;\\;\\; \\hbox{or} \\;\\;\\;\\;  q'''L=h(T(L)-T_{\\infty})$$\n",
    "\n",
    "\n",
    "Matlab solution of this problem would involve developing a system of algebraic equations for temperature nodes in the slab.  There are many ways to do this, among which we will consider finite difference, finite volume, and finite element techniques.  The most intuitive of these is the finite volume method.  I discuss how to generate the equations in Lesson 5.1.  The appropriate Matlab code to use is SlabGenConvBCs.m.\n",
    "\n",
    "Play with this routine to see if you can match your analytical solution.\n",
    "\n"
   ]
  }
 ],
 "metadata": {
  "anaconda-cloud": {},
  "kernelspec": {
   "display_name": "Python [default]",
   "language": "python",
   "name": "python2"
  },
  "language_info": {
   "codemirror_mode": {
    "name": "ipython",
    "version": 2
   },
   "file_extension": ".py",
   "mimetype": "text/x-python",
   "name": "python",
   "nbconvert_exporter": "python",
   "pygments_lexer": "ipython2",
   "version": "2.7.12"
  }
 },
 "nbformat": 4,
 "nbformat_minor": 0
}
