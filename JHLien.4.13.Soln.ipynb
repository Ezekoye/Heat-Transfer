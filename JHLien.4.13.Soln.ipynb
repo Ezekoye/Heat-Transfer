{
 "cells": [
  {
   "cell_type": "markdown",
   "metadata": {},
   "source": [
    "4.13)  What is the minimum length, $L$, of a thermometer well necessary to ensure an error less than $0.5 \\%$ of the difference between the pipe wall temperature and the temperature of fluid flowing in a pipe?  The well consists of a tube reaching into the pipe, with its end closed. It has a $2 \\;cm$ O.D. and a $1.88 \\;cm$  I.D.  The material is type 304 stainless steel.  Assume that the fluid is steam at $260^o \\; C$ and that the heat transfer coefficient between the steam and tube wall is $300 \\; W/m^2K$.\n",
    "\n",
    "\n",
    "Setup:  A thermometer well is a sleeve within which a thermometer is placed to protect it from the outside environment.  This particular well is a hollow stainless steel tube.  As you know, conduction losses will cause the tip of the thermometer well (where the sensing element touches the well) to be different from the fluid temperature.  How long must the well be so that we have a $0.5 \\%$ error.  Just use the adiabatic tip solution.  Note that the cross-sectional area is for a hollow cylinder.\n",
    "\n",
    "$${T(x)-T_{\\infty} \\over {T_B - T_{\\infty}} }= {cosh [m(L-x)] \\over cosh(mL)}$$\n",
    "\n",
    "We know that $m=\\left( {hP \\over kA_c} \\right)^{1/2}$ and that $P=\\pi D_o$.  The issue here is what is the appropriate $A_c$.  We can get $A_c$ as  $A_c = \\pi (D_o^2 - D_i^2)/4$.\n",
    "\n",
    "We can look up the thermal properties in various sources. $k \\approx 17 \\; W/mK$.\n",
    "\n",
    "We're looking for $L$ such that:\n",
    "\n",
    "$$0.005={T(L)-T_{\\infty} \\over {T_B - T_{\\infty}} }= {1 \\over cosh(mL)}$$\n",
    "\n",
    "$$cosh(mL)=(0.005)^{-1}$$\n",
    "\n",
    "$$mL =cosh^{-1}(0.005)^{-1}$$\n",
    "\n",
    "$$L={cosh^{-1}(0.005)^{-1} \\over m}$$\n"
   ]
  },
  {
   "cell_type": "code",
   "execution_count": 32,
   "metadata": {
    "collapsed": false
   },
   "outputs": [],
   "source": [
    "import numpy as np"
   ]
  },
  {
   "cell_type": "code",
   "execution_count": 33,
   "metadata": {
    "collapsed": false
   },
   "outputs": [],
   "source": [
    "k=17.; h=300.;Do= 0.02; Di=0.0188; pi=3.14159;"
   ]
  },
  {
   "cell_type": "code",
   "execution_count": 34,
   "metadata": {
    "collapsed": false
   },
   "outputs": [],
   "source": [
    "P=pi*Do; Ac=pi*(Do**2 - Di**2)/4.;m=(h*P/(k*Ac))**(0.5)"
   ]
  },
  {
   "cell_type": "code",
   "execution_count": 35,
   "metadata": {
    "collapsed": false
   },
   "outputs": [],
   "source": [
    "L=np.arccosh(1./0.005)/m;"
   ]
  },
  {
   "cell_type": "code",
   "execution_count": 36,
   "metadata": {
    "collapsed": false
   },
   "outputs": [
    {
     "data": {
      "text/plain": [
       "174.13043075028787"
      ]
     },
     "execution_count": 36,
     "metadata": {},
     "output_type": "execute_result"
    }
   ],
   "source": [
    "m; # the value of m is given below as"
   ]
  },
  {
   "cell_type": "code",
   "execution_count": 37,
   "metadata": {
    "collapsed": false
   },
   "outputs": [
    {
     "data": {
      "text/plain": [
       "0.034407876160608891"
      ]
     },
     "execution_count": 37,
     "metadata": {},
     "output_type": "execute_result"
    }
   ],
   "source": [
    "L;# the length L resulting in a small error in the junction temperature is given in meters as:"
   ]
  },
  {
   "cell_type": "markdown",
   "metadata": {},
   "source": [
    "Note that a relatively short thermometer well length of about $3.4 \\; cm$ is needed to ensure small errors even when the outer diameter is $2 \\;cm$. The reason is because the fin is hollow.  The small cross-sectional area has the same overall effect as a small thermal conductivity or a large heat transfer coefficient."
   ]
  }
 ],
 "metadata": {
  "kernelspec": {
   "display_name": "Python [default]",
   "language": "python",
   "name": "python2"
  },
  "language_info": {
   "codemirror_mode": {
    "name": "ipython",
    "version": 2
   },
   "file_extension": ".py",
   "mimetype": "text/x-python",
   "name": "python",
   "nbconvert_exporter": "python",
   "pygments_lexer": "ipython2",
   "version": "2.7.12"
  }
 },
 "nbformat": 4,
 "nbformat_minor": 0
}
