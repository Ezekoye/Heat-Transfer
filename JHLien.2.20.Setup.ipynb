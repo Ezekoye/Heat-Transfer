{
 "cells": [
  {
   "cell_type": "markdown",
   "metadata": {},
   "source": [
    "(2.20)  $800 W/m^3$ of heat is generated within a $10 cm$ diameter nickel- steel sphere for which $k = 10 \\; W/mK$. The.environment is at 20°C and there is a natural convection heat transfer coefficient of $10 W/m^2K$ around the outside of the sphere. What is its center temperature at the steady state? (21.370C)\n",
    "\n",
    "The steady one dimensional equation is:\n",
    "$${d\\over dr} \\left( r^2 {dT\\over dr} \\right) = -S''' r^2$$\n",
    "\n",
    "You can integrate this equation twice on $(0,r)$ and apply boundary conditions at $r=0$ and at $r=R$.\n",
    "The $r=0$ condition is a symmetry condition which means that ${dT\\over dr}=0$.\n",
    "You can formulate the $r=R$ condition either in terms of a convective boundary condition or in terms of a surface temperature is determined using a global energy balance.\n",
    "\n",
    "We can find $T(R)$ using a global balance\n",
    "\n",
    "$$hA_s(T(R)-T_{\\infty})=S'''V$$\n",
    "\n",
    "Note that the global balance involves integrating the source over the entire volume and equating the total amount of power generated to the heat transfer rate out of the sphere.  This form of the balance is only valid in steady state.  Alternatively, you could formulate the boundary condition in terms of the internal conductive heat flux balancing Newton's law of cooling convection.  Please know how to do both.\n",
    "\n",
    "\n",
    "Matlab: Think about what the finite volume system of equations would look like for a spherical one-dimensional system.  There is no need to code it."
   ]
  }
 ],
 "metadata": {
  "kernelspec": {
   "display_name": "Python [default]",
   "language": "python",
   "name": "python2"
  },
  "language_info": {
   "codemirror_mode": {
    "name": "ipython",
    "version": 2
   },
   "file_extension": ".py",
   "mimetype": "text/x-python",
   "name": "python",
   "nbconvert_exporter": "python",
   "pygments_lexer": "ipython2",
   "version": "2.7.12"
  }
 },
 "nbformat": 4,
 "nbformat_minor": 0
}
